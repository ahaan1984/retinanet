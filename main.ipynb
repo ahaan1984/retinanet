{
 "cells": [
  {
   "cell_type": "code",
   "execution_count": 3,
   "metadata": {},
   "outputs": [],
   "source": [
    "import torch\n",
    "import torch.nn as nn\n",
    "import torch.optim as optim\n",
    "import torchvision.transforms as transforms\n",
    "import cv2\n",
    "import numpy as np"
   ]
  },
  {
   "cell_type": "code",
   "execution_count": 4,
   "metadata": {},
   "outputs": [],
   "source": [
    "from focalLoss import FocalLoss\n",
    "from models import RetinaNet"
   ]
  },
  {
   "cell_type": "code",
   "execution_count": 5,
   "metadata": {},
   "outputs": [],
   "source": [
    "def compute_loss(cls_outputs, reg_outputs, targets, criterion_cls, criterion_reg):\n",
    "    cls_losses = []\n",
    "    reg_losses = []\n",
    "\n",
    "    for cls_output, reg_output, target in zip(cls_outputs, reg_outputs, targets):\n",
    "        cls_target = target['label']\n",
    "        reg_target = target['boxes']\n",
    "\n",
    "        cls_loss = criterion_cls(cls_output, cls_target)\n",
    "        cls_losses.append(cls_loss)\n",
    "\n",
    "        reg_loss = criterion_reg(reg_output, reg_target)\n",
    "        reg_losses.append(reg_loss)\n",
    "\n",
    "        return sum(cls_losses) / len(cls_losses), sum(reg_losses) / len(reg_losses)\n"
   ]
  },
  {
   "cell_type": "code",
   "execution_count": 6,
   "metadata": {},
   "outputs": [],
   "source": [
    "def load_image(img_path):\n",
    "    img = cv2.imread(img_path)\n",
    "    img = cv2.cvtColor(img, cv2.COLOR_BGR2RGB)\n",
    "    transform = transforms.Compose([\n",
    "        transforms.ToTensor(),\n",
    "        transforms.Normalize(\n",
    "            mean=[0.485, 0.456, 0.406],\n",
    "            std=[0.229, 0.224, 0.225]\n",
    "        )\n",
    "    ])\n",
    "    img = transform(img)\n",
    "    return img.unsqueeze(0)"
   ]
  },
  {
   "cell_type": "code",
   "execution_count": 7,
   "metadata": {},
   "outputs": [],
   "source": [
    "def train_model(model, dataloader, num_epochs, device, patience=5):\n",
    "    model.to(device)\n",
    "    optimiser = optim.Adam(model.parameters(), lr=0.001)\n",
    "    criterion_cls = FocalLoss()\n",
    "    criterion_reg = nn.SmoothL1Loss()\n",
    "    model.train()\n",
    "    best_loss = np.inf\n",
    "    counter = 0\n",
    "\n",
    "    for epoch in range(num_epochs):\n",
    "        running_loss_cls = 0.0\n",
    "        running_loss_reg = 0.0\n",
    "        for images, targets in dataloader:\n",
    "            images = images.to(device)\n",
    "            targets = [{k: v.to(device) for k, v in t.items()} for t in targets]\n",
    "            optimiser.zero_grad()\n",
    "            cls_outputs, reg_outputs = model(images)\n",
    "            loss_cls, loss_reg = compute_loss(cls_outputs, reg_outputs, targets, criterion_cls, criterion_reg)\n",
    "            loss = loss_cls + loss_reg\n",
    "            loss.backward()\n",
    "            optimiser.step()\n",
    "            running_loss_cls += loss_cls.item()\n",
    "            running_loss_reg += loss_reg.item()\n",
    "        print(f\"Epoch {epoch + 1}/{num_epochs}, Classification Loss: {running_loss_cls / len(dataloader)}\",\n",
    "              f\"Regression Loss: {running_loss_reg / len(dataloader)}\")\n",
    "        epoch_loss = running_loss_cls + running_loss_reg\n",
    "\n",
    "        if epoch_loss < best_loss:\n",
    "            best_loss = epoch_loss\n",
    "            counter = 0\n",
    "        else:\n",
    "            counter += 1\n",
    "\n",
    "        if counter >= patience:\n",
    "            raise ValueError(\"Early Stopping\")"
   ]
  },
  {
   "cell_type": "code",
   "execution_count": 8,
   "metadata": {},
   "outputs": [],
   "source": [
    "def visualise_detections(img_path, detections, threshold=0.5):\n",
    "    img = cv2.imread(img_path)\n",
    "    for detection in detections:\n",
    "        if detection['score'] > threshold:\n",
    "            x1, y1, x2, y2 = detection['bbox']\n",
    "            cv2.rectangle(img, (x1, y1), (x2, y2), (0, 255, 0), 2)\n",
    "            label = f\"{detection['class']}:{detection['score']:.2f}\"\n",
    "            cv2.putText(img, label, (x1, y1-10), cv2.FONT_HERSHEY_SIMPLEX, 0.5, (0, 255, 0), 2)\n",
    "    cv2.imshow(\"Detections\", img)\n",
    "    cv2.waitKey(0)\n",
    "    cv2.destroyAllWindows()"
   ]
  },
  {
   "cell_type": "code",
   "execution_count": null,
   "metadata": {},
   "outputs": [],
   "source": []
  }
 ],
 "metadata": {
  "kernelspec": {
   "display_name": "env",
   "language": "python",
   "name": "python3"
  },
  "language_info": {
   "codemirror_mode": {
    "name": "ipython",
    "version": 3
   },
   "file_extension": ".py",
   "mimetype": "text/x-python",
   "name": "python",
   "nbconvert_exporter": "python",
   "pygments_lexer": "ipython3",
   "version": "3.11.9"
  }
 },
 "nbformat": 4,
 "nbformat_minor": 2
}
