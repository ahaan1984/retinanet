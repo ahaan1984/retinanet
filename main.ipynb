{
 "cells": [
  {
   "cell_type": "code",
   "execution_count": 1,
   "metadata": {},
   "outputs": [],
   "source": [
    "import os\n",
    "import torch\n",
    "import torch.nn as nn\n",
    "import torch.optim as optim\n",
    "from torchvision.transforms import v2\n",
    "from torch.utils.data import DataLoader\n",
    "import cv2\n",
    "import numpy as np\n",
    "import wandb"
   ]
  },
  {
   "cell_type": "code",
   "execution_count": 2,
   "metadata": {},
   "outputs": [],
   "source": [
    "from focalLoss import FocalLoss\n",
    "from models import RetinaNet\n",
    "from dataset import PascalDataset"
   ]
  },
  {
   "cell_type": "code",
   "execution_count": 3,
   "metadata": {},
   "outputs": [],
   "source": [
    "def compute_loss(cls_outputs, reg_outputs, targets, criterion_cls, criterion_reg):\n",
    "    cls_losses = []\n",
    "    reg_losses = []\n",
    "    \n",
    "    for cls_output, reg_output, target in zip(cls_outputs, reg_outputs, targets):\n",
    "        cls_target = target['labels']\n",
    "        reg_target = target['boxes']\n",
    "        \n",
    "        # Flatten cls_output and cls_target\n",
    "        cls_output = cls_output.permute(0, 2, 3, 1).contiguous().view(-1, cls_output.size(1))\n",
    "        cls_target = cls_target.view(-1)\n",
    "        \n",
    "        # Ensure cls_output and cls_target are of the same size\n",
    "        min_size = min(cls_output.size(0), cls_target.size(0))\n",
    "        cls_output = cls_output[:min_size]\n",
    "        cls_target = cls_target[:min_size]\n",
    "        \n",
    "        # Match reg_output and reg_target\n",
    "        reg_output = reg_output.view(-1, 4)\n",
    "        reg_target = reg_target.view(-1, 4)\n",
    "        \n",
    "        # Ensure reg_output and reg_target are of the same size\n",
    "        min_size = min(reg_output.size(0), reg_target.size(0))\n",
    "        reg_output = reg_output[:min_size]\n",
    "        reg_target = reg_target[:min_size]\n",
    "        \n",
    "        # Compute classification loss\n",
    "        cls_loss = criterion_cls(cls_output, cls_target)\n",
    "        cls_losses.append(cls_loss)\n",
    "        \n",
    "        # Compute regression loss\n",
    "        reg_loss = criterion_reg(reg_output, reg_target)\n",
    "        reg_losses.append(reg_loss)\n",
    "    \n",
    "    # Aggregate losses and return mean values\n",
    "    return torch.mean(torch.stack(cls_losses)), torch.mean(torch.stack(reg_losses))"
   ]
  },
  {
   "cell_type": "code",
   "execution_count": 4,
   "metadata": {},
   "outputs": [],
   "source": [
    "def load_image(img_path):\n",
    "    img = cv2.imread(img_path)\n",
    "    img = cv2.cvtColor(img, cv2.COLOR_BGR2RGB)\n",
    "    transform = v2.Compose([\n",
    "        v2.ToDtype(torch.float32),\n",
    "        v2.Normalize(\n",
    "            mean=[0.485, 0.456, 0.406],\n",
    "            std=[0.229, 0.224, 0.225]\n",
    "        )\n",
    "    ])\n",
    "    img = transform(img)\n",
    "    return img.unsqueeze(0)"
   ]
  },
  {
   "cell_type": "code",
   "execution_count": 5,
   "metadata": {},
   "outputs": [],
   "source": [
    "def train_model(model, dataloader, num_epochs, device, patience=5):\n",
    "    model.to(device)\n",
    "    optimiser = optim.AdamW(model.parameters(), lr=3e-4)\n",
    "    criterion_cls = FocalLoss()\n",
    "    criterion_reg = nn.SmoothL1Loss()\n",
    "    model.train()\n",
    "    best_loss = np.inf\n",
    "    counter = 0\n",
    "\n",
    "    for epoch in range(num_epochs):\n",
    "        running_loss_cls = 0.0\n",
    "        running_loss_reg = 0.0\n",
    "        for images, targets in dataloader:\n",
    "            images = torch.stack(images).to(device)\n",
    "            targets = [{k: v.to(device) for k, v in t.items()} for t in targets]\n",
    "            \n",
    "            # Forward pass\n",
    "            with torch.set_grad_enabled(True):\n",
    "                optimiser.zero_grad(set_to_none=True)\n",
    "                cls_outputs, reg_outputs = model(images)\n",
    "                loss_cls, loss_reg = compute_loss(cls_outputs, reg_outputs, targets, criterion_cls, criterion_reg)\n",
    "                loss = loss_cls + loss_reg\n",
    "                \n",
    "                # Backward pass\n",
    "                loss.backward()\n",
    "                optimiser.step()\n",
    "            \n",
    "            running_loss_cls += loss_cls.item()\n",
    "            running_loss_reg += loss_reg.item()\n",
    "        \n",
    "        # Logging\n",
    "        epoch_loss = running_loss_cls + running_loss_reg\n",
    "        wandb.log({\n",
    "            'epoch': epoch,\n",
    "            'classification_loss': running_loss_cls,\n",
    "            'regression_loss': running_loss_reg, \n",
    "            'epoch_loss': epoch_loss \n",
    "        })\n",
    "        \n",
    "        # Early stopping\n",
    "        if epoch_loss < best_loss:\n",
    "            best_loss = epoch_loss\n",
    "            counter = 0\n",
    "        else:\n",
    "            counter += 1\n",
    "        \n",
    "        if counter >= patience:\n",
    "            raise ValueError(\"Early Stopping\")\n",
    "        \n",
    "        # Print progress\n",
    "        print(f\"Epoch {epoch + 1}/{num_epochs}, Classification Loss: {running_loss_cls / len(dataloader)}\",\n",
    "              f\"Regression Loss: {running_loss_reg / len(dataloader)}\")\n"
   ]
  },
  {
   "cell_type": "code",
   "execution_count": 6,
   "metadata": {},
   "outputs": [],
   "source": [
    "def visualise_detections(img_path, detections, threshold=0.5):\n",
    "    img = cv2.imread(img_path)\n",
    "    for detection in detections:\n",
    "        if detection['score'] > threshold:\n",
    "            x1, y1, x2, y2 = detection['bbox']\n",
    "            cv2.rectangle(img, (x1, y1), (x2, y2), (0, 255, 0), 2)\n",
    "            label = f\"{detection['class']}:{detection['score']:.2f}\"\n",
    "            cv2.putText(img, label, (x1, y1-10), cv2.FONT_HERSHEY_SIMPLEX, 0.5, (0, 255, 0), 2)\n",
    "    cv2.imshow(\"Detections\", img)\n",
    "    cv2.waitKey(0)\n",
    "    cv2.destroyAllWindows()"
   ]
  },
  {
   "cell_type": "code",
   "execution_count": 7,
   "metadata": {},
   "outputs": [],
   "source": [
    "def collate_fn(batch):\n",
    "    return tuple(zip(*batch))"
   ]
  },
  {
   "cell_type": "code",
   "execution_count": 8,
   "metadata": {},
   "outputs": [],
   "source": [
    "transform = v2.Compose([\n",
    "    v2.ToDtype(torch.float32, scale=True),\n",
    "    v2.Normalize(\n",
    "        mean=[0.485, 0.456, 0.406],\n",
    "        std=[0.229, 0.224, 0.225]\n",
    "    )\n",
    "])"
   ]
  },
  {
   "cell_type": "code",
   "execution_count": 9,
   "metadata": {},
   "outputs": [],
   "source": [
    "trainpath = r'VOCtrainval_06-Nov-2007'\n",
    "trainset = PascalDataset(trainpath, img_set='train', transform=transform)\n",
    "trainloader = DataLoader(trainset, batch_size=1, shuffle=True, num_workers=0, collate_fn=collate_fn, pin_memory=True)"
   ]
  },
  {
   "cell_type": "code",
   "execution_count": 10,
   "metadata": {},
   "outputs": [
    {
     "name": "stderr",
     "output_type": "stream",
     "text": [
      "Failed to detect the name of this notebook, you can set it manually with the WANDB_NOTEBOOK_NAME environment variable to enable code saving.\n",
      "\u001b[34m\u001b[1mwandb\u001b[0m: Currently logged in as: \u001b[33mahaan1984\u001b[0m. Use \u001b[1m`wandb login --relogin`\u001b[0m to force relogin\n"
     ]
    },
    {
     "data": {
      "text/html": [
       "Tracking run with wandb version 0.17.0"
      ],
      "text/plain": [
       "<IPython.core.display.HTML object>"
      ]
     },
     "metadata": {},
     "output_type": "display_data"
    },
    {
     "data": {
      "text/html": [
       "Run data is saved locally in <code>e:\\retinanet\\wandb\\run-20240530_154820-tah9i99z</code>"
      ],
      "text/plain": [
       "<IPython.core.display.HTML object>"
      ]
     },
     "metadata": {},
     "output_type": "display_data"
    },
    {
     "data": {
      "text/html": [
       "Syncing run <strong><a href='https://wandb.ai/ahaan1984/retinanet/runs/tah9i99z' target=\"_blank\">dandy-dragon-5</a></strong> to <a href='https://wandb.ai/ahaan1984/retinanet' target=\"_blank\">Weights & Biases</a> (<a href='https://wandb.me/run' target=\"_blank\">docs</a>)<br/>"
      ],
      "text/plain": [
       "<IPython.core.display.HTML object>"
      ]
     },
     "metadata": {},
     "output_type": "display_data"
    },
    {
     "data": {
      "text/html": [
       " View project at <a href='https://wandb.ai/ahaan1984/retinanet' target=\"_blank\">https://wandb.ai/ahaan1984/retinanet</a>"
      ],
      "text/plain": [
       "<IPython.core.display.HTML object>"
      ]
     },
     "metadata": {},
     "output_type": "display_data"
    },
    {
     "data": {
      "text/html": [
       " View run at <a href='https://wandb.ai/ahaan1984/retinanet/runs/tah9i99z' target=\"_blank\">https://wandb.ai/ahaan1984/retinanet/runs/tah9i99z</a>"
      ],
      "text/plain": [
       "<IPython.core.display.HTML object>"
      ]
     },
     "metadata": {},
     "output_type": "display_data"
    },
    {
     "data": {
      "text/html": [
       "<button onClick=\"this.nextSibling.style.display='block';this.style.display='none';\">Display W&B run</button><iframe src='https://wandb.ai/ahaan1984/retinanet/runs/tah9i99z?jupyter=true' style='border:none;width:100%;height:420px;display:none;'></iframe>"
      ],
      "text/plain": [
       "<wandb.sdk.wandb_run.Run at 0x24cc8b9ad10>"
      ]
     },
     "execution_count": 10,
     "metadata": {},
     "output_type": "execute_result"
    }
   ],
   "source": [
    "wandb.init(\n",
    "    # set the wandb project where this run will be logged\n",
    "    project=\"retinanet\",\n",
    "\n",
    "    # track hyperparameters and run metadata\n",
    "    config={\n",
    "    \"learning_rate\": 0.01,\n",
    "    \"architecture\": \"RetinaNet\",\n",
    "    \"dataset\": \"PASCAL VOC 2007\",\n",
    "    \"epochs\": 10,\n",
    "    }\n",
    ")"
   ]
  },
  {
   "cell_type": "code",
   "execution_count": 11,
   "metadata": {},
   "outputs": [],
   "source": [
    "device = torch.device('cuda' if torch.cuda.is_available() else 'cpu')\n",
    "model = RetinaNet(num_classes=len(trainset.classes))\n",
    "train_model(model, trainloader, num_epochs=10, device=device)"
   ]
  },
  {
   "cell_type": "code",
   "execution_count": null,
   "metadata": {},
   "outputs": [],
   "source": []
  }
 ],
 "metadata": {
  "kernelspec": {
   "display_name": "env",
   "language": "python",
   "name": "python3"
  },
  "language_info": {
   "codemirror_mode": {
    "name": "ipython",
    "version": 3
   },
   "file_extension": ".py",
   "mimetype": "text/x-python",
   "name": "python",
   "nbconvert_exporter": "python",
   "pygments_lexer": "ipython3",
   "version": "3.11.9"
  }
 },
 "nbformat": 4,
 "nbformat_minor": 2
}
